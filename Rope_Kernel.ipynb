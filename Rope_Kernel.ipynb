{
  "nbformat": 4,
  "nbformat_minor": 0,
  "metadata": {
    "colab": {
      "provenance": [],
      "gpuType": "T4"
    },
    "kernelspec": {
      "name": "python3",
      "display_name": "Python 3"
    },
    "language_info": {
      "name": "python"
    },
    "accelerator": "GPU"
  },
  "cells": [
    {
      "cell_type": "code",
      "execution_count": 1,
      "metadata": {
        "id": "Fbv837BpkRvR"
      },
      "outputs": [],
      "source": [
        "import torch\n",
        "import triton\n",
        "import triton.language as tl\n",
        "from typing import Any, Callable, Dict, List, Optional, Tuple, Union"
      ]
    },
    {
      "cell_type": "markdown",
      "source": [
        "## Original"
      ],
      "metadata": {
        "id": "8Liy-5_xBwJJ"
      }
    },
    {
      "cell_type": "code",
      "source": [
        "class RotaryPositionEmbedding(torch.nn.Module):\n",
        "    \"\"\"\n",
        "    Implements Rotary Position Embedding from https://arxiv.org/abs/2104.09864.\n",
        "    \"\"\"\n",
        "    def __init__(\n",
        "        self,\n",
        "        dim: int,\n",
        "        rotary_percent: float = 1.0,\n",
        "        seq_len_interpolation_factor: Optional[int] = None,\n",
        "        pretrained_max_position_embeddings: Optional[int] = None,\n",
        "    ):\n",
        "        \"\"\"\n",
        "        Parameters\n",
        "        ----------\n",
        "        dim: int\n",
        "            rotary embedding dimension\n",
        "        rotary_percent: float\n",
        "            Percent of rotary dimension to use for rotary position embeddings.\n",
        "        seq_len_interpolation_factor: int\n",
        "            if not None, discrete positions will be interpolated by this factor via the trick in\n",
        "            https://arxiv.org/abs/2306.15595\n",
        "        pretrained_max_position_embeddings: int\n",
        "            pre-trained max_position_embeddings before position interpolation\n",
        "        \"\"\"\n",
        "        super().__init__()\n",
        "        if rotary_percent < 1.0:\n",
        "            dim = int(dim * rotary_percent)\n",
        "        self.seq_len_interpolation_factor = seq_len_interpolation_factor\n",
        "        inv_freq = 1.0 / (\n",
        "            10000\n",
        "            ** (\n",
        "                torch.arange(0, dim, 2, dtype=torch.float32, device=torch.cuda.current_device())\n",
        "                / dim\n",
        "            )\n",
        "        )\n",
        "        self.register_buffer('inv_freq', inv_freq)\n",
        "        self.pretrained_max_position_embeddings = pretrained_max_position_embeddings\n",
        "\n",
        "    def forward(self, max_seq_len: int, offset: int = 0):\n",
        "        \"\"\"\n",
        "        Create rotary position embedding frequencies\n",
        "\n",
        "        Parameters\n",
        "        ----------\n",
        "        max_seq_len: int\n",
        "            sequence length of a sample\n",
        "        offset: int, default = 0\n",
        "            fixed offset for freqencies\n",
        "        \"\"\"\n",
        "        seq = (\n",
        "            torch.arange(max_seq_len, device=self.inv_freq.device, dtype=self.inv_freq.dtype)\n",
        "            + offset\n",
        "        )\n",
        "\n",
        "        if (self.pretrained_max_position_embeddings is not None\n",
        "            and self.seq_len_interpolation_factor is not None):\n",
        "            if (max_seq_len >\n",
        "                self.pretrained_max_position_embeddings * self.seq_len_interpolation_factor):\n",
        "                # dynamic linear scaling (length > position we have learned)\n",
        "                seq *= 1 / (max_seq_len / self.pretrained_max_position_embeddings)\n",
        "            else:\n",
        "                # fixed linear scaling\n",
        "                seq *= 1 / self.seq_len_interpolation_factor\n",
        "\n",
        "        freqs = torch.einsum('i , j -> i j', seq, self.inv_freq)\n",
        "        # first part even vector components, second part odd vector components,\n",
        "        #  2 * dim in dimension size\n",
        "        emb = torch.cat((freqs, freqs), dim=-1)\n",
        "        # emb [seq_length, .., dim]\n",
        "        return emb.reshape(emb.size(0), 1, 1, emb.size(1))"
      ],
      "metadata": {
        "id": "l8hcGnmlo1-o"
      },
      "execution_count": 2,
      "outputs": []
    },
    {
      "cell_type": "code",
      "source": [
        "def _rotate_half(x: torch.Tensor) -> torch.Tensor:\n",
        "    \"\"\"\n",
        "    change sign so the last dimension becomes [-odd, +even]\n",
        "    \"\"\"\n",
        "    x = x.view(x.shape[:-1] + torch.Size((2, x.shape[-1] // 2)))\n",
        "    x1, x2 = x.unbind(dim=-2)\n",
        "    return torch.cat((-x2, x1), dim=-1)\n",
        "\n",
        "\n"
      ],
      "metadata": {
        "id": "heS3lEuskSy3"
      },
      "execution_count": 3,
      "outputs": []
    },
    {
      "cell_type": "markdown",
      "source": [
        "## Triton"
      ],
      "metadata": {
        "id": "fEC73ANWN6FN"
      }
    },
    {
      "cell_type": "markdown",
      "source": [
        "### Implementation"
      ],
      "metadata": {
        "id": "oDeBIaqXbykT"
      }
    },
    {
      "cell_type": "code",
      "source": [
        "def precompute_freqs_cis_pytorch(dim: int, end: int, theta: float = 10000.0):\n",
        "    assert dim % 2 == 0\n",
        "\n",
        "    # Generate a sequence of numbers from 0 to dim in steps of 2\n",
        "    sequence = torch.arange(0, dim, 2, dtype=torch.float32, device=\"cuda\")\n",
        "\n",
        "    # Keep only the first half of the sequence (in case dim is odd?)\n",
        "    # sequence = sequence[: (dim // 2)]\n",
        "\n",
        "    # Calculate frequency values based on the sequence and theta\n",
        "    freqs = 1.0 / (theta ** (sequence / dim))\n",
        "\n",
        "    # Create a tensor of numbers from 0 to end, it represents the position ids\n",
        "    t = torch.arange(end, device=freqs.device)\n",
        "\n",
        "    # Generate a table of frequency values\n",
        "    freqs = t[:, None] * freqs[None, :]  # torch.outer(t, freqs).float()\n",
        "\n",
        "    # Calculate cosine and sine values for the frequencies\n",
        "    # These can be considered as the real and imaginary parts of complex numbers\n",
        "    freqs_cos = torch.cos(freqs)\n",
        "    freqs_sin = torch.sin(freqs)\n",
        "\n",
        "    # Return the cosine and sine values as two separate tensors\n",
        "    return freqs_cos, freqs_sin\n",
        "\n",
        "def apply_rotary_emb_pytorch(x: torch.Tensor, freq_cos: torch.Tensor, freq_sin: torch.Tensor) -> torch.Tensor:\n",
        "    # Split x and x into real and imaginary parts\n",
        "    x_real = x[..., 0::2]\n",
        "    x_imag = x[..., 1::2]\n",
        "\n",
        "    # Reshape freq_cos and freq_sin for broadcasting\n",
        "    freq_cos = reshape_for_broadcast(freq_cos, x_real).to(torch.float32)\n",
        "    freq_sin = reshape_for_broadcast(freq_sin, x_imag).to(torch.float32)\n",
        "\n",
        "    # Perform the equivalent of complex multiplication\n",
        "    x_out_real = x_real * freq_cos - x_imag * freq_sin\n",
        "    x_out_imag = x_real * freq_sin + x_imag * freq_cos\n",
        "\n",
        "    # Combine real and imaginary parts back into the original tensor\n",
        "    x_out = torch.stack((x_out_real, x_out_imag), dim=-1).flatten(-2)\n",
        "\n",
        "    return x_out.type_as(x)\n",
        "\n",
        "def reshape_for_broadcast(freqs_cis: torch.Tensor, x: torch.Tensor):\n",
        "    ndim = x.ndim\n",
        "    assert 0 <= 1 < ndim\n",
        "    assert freqs_cis.shape == (x.shape[1], x.shape[-1]), f\"{freqs_cis.shape} != {(x.shape[1], x.shape[-1])}\"\n",
        "    shape = [d if i == 1 or i == ndim - 1 else 1 for i, d in enumerate(x.shape)]\n",
        "    return freqs_cis.view(*shape)\n"
      ],
      "metadata": {
        "id": "SO2poWlXl8XI"
      },
      "execution_count": 15,
      "outputs": []
    },
    {
      "cell_type": "code",
      "source": [
        "batch, seq_len, heads, dim = [1, 16, 32, 128]\n",
        "\n",
        "embeddings_load = torch.randn([batch, seq_len, heads * dim], dtype=torch.float16, device=\"cuda\")\n",
        "rms_weights = torch.randn([heads * dim], dtype=torch.float16, device=\"cuda\") * 0.2\n",
        "q_weights_load = torch.randn([heads * dim, heads * dim], dtype=torch.float16, device=\"cuda\") * 0.2"
      ],
      "metadata": {
        "id": "E2vwOsFYloxS"
      },
      "execution_count": 16,
      "outputs": []
    },
    {
      "cell_type": "code",
      "source": [
        "@triton.jit\n",
        "def get_freq_multi_tokens(offs_cn, starting_idx, theta: tl.constexpr, NB_TOKENS: tl.constexpr):\n",
        "    DIM: tl.constexpr = 128  # in model, dim = self.params.dim // self.params.n_heads\n",
        "    freqs = offs_cn % DIM\n",
        "    freqs = freqs.to(tl.float32) / DIM\n",
        "    freqs = tl.math.pow(theta, freqs)\n",
        "    freqs = (tl.arange(0, NB_TOKENS) + starting_idx)[:, None] / freqs[None, :]\n",
        "    return tl.cos(freqs), tl.sin(freqs)"
      ],
      "metadata": {
        "id": "zPUqSkPSrwNf"
      },
      "execution_count": 17,
      "outputs": []
    },
    {
      "cell_type": "code",
      "source": [
        "@triton.jit\n",
        "def rbe_triton(x_ptr, out_ptr,\n",
        "               M, K,\n",
        "               stride_x_batch, stride_x_m, stride_x_n,\n",
        "               stride_out_batch, stride_out_m, stride_out_n,\n",
        "               start_token_position,\n",
        "               THETA: tl.constexpr, BLOCK_SIZE_M: tl.constexpr, BLOCK_SIZE_K: tl.constexpr):\n",
        "    pid_batch = tl.program_id(axis=0)\n",
        "    pid = tl.program_id(axis=1)\n",
        "    pid_m = pid // tl.cdiv(K, BLOCK_SIZE_K)\n",
        "    pid_n = pid % tl.cdiv(K, BLOCK_SIZE_K)\n",
        "\n",
        "    offs_m = pid_m * BLOCK_SIZE_M + tl.arange(0, BLOCK_SIZE_M)\n",
        "    offs_n = pid_n * BLOCK_SIZE_K + tl.arange(0, BLOCK_SIZE_K // 2) * 2  # take only even numbers\n",
        "    x_ptrs = x_ptr + (pid_batch * stride_x_batch + stride_x_m * offs_m[:, None] + stride_x_n * offs_n[None, :])\n",
        "    x_real_mask = (offs_m[:, None] < M) & (offs_n[None, :] < K)\n",
        "    real = tl.load(x_ptrs, mask=x_real_mask, other=0.0)\n",
        "    x_imag_mask = (offs_m[:, None] < M) & (1 + offs_n[None, :] < K)\n",
        "    imag = tl.load(x_ptrs + 1, mask=x_imag_mask, other=0.0)\n",
        "    tl.debug_barrier()\n",
        "    start_block = start_token_position + pid_m * BLOCK_SIZE_M\n",
        "    cos, sin = get_freq_multi_tokens(offs_cn=offs_n, starting_idx=start_block, theta=THETA, NB_TOKENS=BLOCK_SIZE_M)\n",
        "\n",
        "    out_real = real * cos - imag * sin\n",
        "    out_imag = real * sin + imag * cos\n",
        "    tl.debug_barrier()\n",
        "    out_ptrs = out_ptr + (\n",
        "            pid_batch * stride_out_batch + stride_out_m * offs_m[:, None] + stride_out_n * offs_n[None, :])\n",
        "    out_real_mask = (offs_m[:, None] < M) & (offs_n[None, :] < K)\n",
        "    tl.store(out_ptrs, out_real, mask=out_real_mask)\n",
        "    out_imag_mask = (offs_m[:, None] < M) & (1 + offs_n[None, :] < K)\n",
        "    tl.store(out_ptrs + 1, out_imag, mask=out_imag_mask)\n",
        "\n",
        "@triton.jit\n",
        "def rbe_triton_backward(x_ptr, out_ptr,\n",
        "               M, K,\n",
        "               stride_x_batch, stride_x_m, stride_x_n,\n",
        "               stride_out_batch, stride_out_m, stride_out_n,\n",
        "               start_token_position,\n",
        "               THETA: tl.constexpr, BLOCK_SIZE_M: tl.constexpr, BLOCK_SIZE_K: tl.constexpr):\n",
        "    pid_batch = tl.program_id(axis=0)\n",
        "    pid = tl.program_id(axis=1)\n",
        "    pid_m = pid // tl.cdiv(K, BLOCK_SIZE_K)\n",
        "    pid_n = pid % tl.cdiv(K, BLOCK_SIZE_K)\n",
        "\n",
        "    offs_m = pid_m * BLOCK_SIZE_M + tl.arange(0, BLOCK_SIZE_M)\n",
        "    offs_n = pid_n * BLOCK_SIZE_K + tl.arange(0, BLOCK_SIZE_K // 2) * 2  # take only even numbers\n",
        "    x_ptrs = x_ptr + (pid_batch * stride_x_batch + stride_x_m * offs_m[:, None] + stride_x_n * offs_n[None, :])\n",
        "    x_real_mask = (offs_m[:, None] < M) & (offs_n[None, :] < K)\n",
        "    real = tl.load(x_ptrs, mask=x_real_mask, other=0.0)\n",
        "    x_imag_mask = (offs_m[:, None] < M) & (1 + offs_n[None, :] < K)\n",
        "    imag = tl.load(x_ptrs + 1, mask=x_imag_mask, other=0.0)\n",
        "    tl.debug_barrier()\n",
        "    start_block = start_token_position + pid_m * BLOCK_SIZE_M\n",
        "    cos, sin = get_freq_multi_tokens(offs_cn=offs_n, starting_idx=start_block, theta=THETA, NB_TOKENS=BLOCK_SIZE_M)\n",
        "\n",
        "    out_real = real * cos + imag * sin\n",
        "    out_imag = -real * sin + imag * cos\n",
        "    tl.debug_barrier()\n",
        "    out_ptrs = out_ptr + (\n",
        "            pid_batch * stride_out_batch + stride_out_m * offs_m[:, None] + stride_out_n * offs_n[None, :])\n",
        "    out_real_mask = (offs_m[:, None] < M) & (offs_n[None, :] < K)\n",
        "    tl.store(out_ptrs, out_real, mask=out_real_mask)\n",
        "    out_imag_mask = (offs_m[:, None] < M) & (1 + offs_n[None, :] < K)\n",
        "    tl.store(out_ptrs + 1, out_imag, mask=out_imag_mask)"
      ],
      "metadata": {
        "id": "EVvaaxkCq2vw"
      },
      "execution_count": 18,
      "outputs": []
    },
    {
      "cell_type": "code",
      "source": [
        "def rbe_triton_wrapper(x: torch.Tensor, pos: int) -> torch.Tensor:\n",
        "    batch, M, K = x.shape\n",
        "    out = torch.empty_like(x)\n",
        "    grid = lambda META: (\n",
        "        batch, triton.cdiv(META[\"M\"], META[\"BLOCK_SIZE_M\"]) * triton.cdiv(META[\"K\"], META[\"BLOCK_SIZE_K\"]),)\n",
        "\n",
        "    rbe_triton[grid](x, out,\n",
        "                     M, K,\n",
        "                     *x.stride(),\n",
        "                     *out.stride(),\n",
        "                     start_token_position=pos, THETA=10000., BLOCK_SIZE_M=2, BLOCK_SIZE_K=1024)\n",
        "    return out\n",
        "\n",
        "def rbe_triton_wrapper_backward(x: torch.Tensor, pos: int) -> torch.Tensor:\n",
        "    batch, M, K = x.shape\n",
        "    out = torch.empty_like(x)\n",
        "    grid = lambda META: (\n",
        "        batch, triton.cdiv(META[\"M\"], META[\"BLOCK_SIZE_M\"]) * triton.cdiv(META[\"K\"], META[\"BLOCK_SIZE_K\"]),)\n",
        "\n",
        "    rbe_triton_backward[grid](x, out,\n",
        "                     M, K,\n",
        "                     *x.stride(),\n",
        "                     *out.stride(),\n",
        "                     start_token_position=pos, THETA=10000., BLOCK_SIZE_M=2, BLOCK_SIZE_K=1024)\n",
        "    return out, None, None,"
      ],
      "metadata": {
        "id": "ShvBp3_vpC_5"
      },
      "execution_count": 19,
      "outputs": []
    },
    {
      "cell_type": "markdown",
      "source": [
        "### 점검 -> 통과"
      ],
      "metadata": {
        "id": "UcligTe7buEC"
      }
    },
    {
      "cell_type": "code",
      "source": [
        "xq = embeddings_load @ q_weights_load.t()\n",
        "xq = xq.view(batch, seq_len, heads, dim)\n",
        "\n",
        "\n",
        "xq_output_triton = embeddings_load  @ q_weights_load.t()\n",
        "out_rbe_triton = rbe_triton_wrapper(xq_output_triton, pos=0).view(batch, seq_len, heads, dim)\n",
        "\n",
        "freq_cos, freq_sin = precompute_freqs_cis_pytorch(dim=128, end=seq_len)\n",
        "out_rbe_pytorch = apply_rotary_emb_pytorch(x=xq, freq_cos=freq_cos, freq_sin=freq_sin).view(batch, seq_len, heads, dim)\n",
        "\n",
        "assert torch.allclose(out_rbe_pytorch, out_rbe_triton, atol=1e-1), f\"max diff: {torch.max(torch.abs(out_rbe_pytorch - out_rbe_triton))}\"\n",
        "print(\"rbe triton\", triton.testing.do_bench(lambda: rbe_triton_wrapper(xq_output_triton, pos=0)))\n",
        "print(\"rbe pytorch\", triton.testing.do_bench(lambda: apply_rotary_emb_pytorch(x=xq, freq_cos=freq_cos, freq_sin=freq_sin)))\n"
      ],
      "metadata": {
        "colab": {
          "base_uri": "https://localhost:8080/"
        },
        "id": "NcJ9Kyjklo0S",
        "outputId": "4830a704-954b-4a67-d96d-eb0869144237"
      },
      "execution_count": 20,
      "outputs": [
        {
          "output_type": "stream",
          "name": "stdout",
          "text": [
            "rbe triton 0.016656363382935524\n",
            "rbe pytorch 0.062155671417713165\n"
          ]
        }
      ]
    },
    {
      "cell_type": "code",
      "source": [
        "class FusedRoPEFunc(torch.autograd.Function):\n",
        "    \"\"\"\n",
        "    Function for FusedRoPE\n",
        "\n",
        "    This implementation assumes the input tensor to be in `sbhd`, `bshd` or `thd` format and\n",
        "    the RoPE tensor to be of shape (s, 1, 1, d). It accepts arbitrary memory layouts to avoid\n",
        "    the expensive `.contiguous()` calls, thus it may not achieve the best memory access pattern.\n",
        "    \"\"\"\n",
        "\n",
        "    @staticmethod\n",
        "    def forward(\n",
        "        ctx,\n",
        "        t: torch.Tensor,\n",
        "        freqs: torch.Tensor,\n",
        "        tensor_format: str = \"bshd\",\n",
        "        cu_seqlens: Union[torch.Tensor, None] = None,\n",
        "    ) -> torch.Tensor:\n",
        "        if tensor_format == \"sbhd\":\n",
        "            s,b,h,d = t.shape\n",
        "            output = rbe_triton_wrapper(t.transpose(0, 1).view(b,s,h*d), pos= 0).view(b,s,h,d).transpose(0, 1)\n",
        "        elif tensor_format == \"bshd\":\n",
        "            b,s,h,d = t.shape\n",
        "\n",
        "            output = rbe_triton_wrapper(\n",
        "                t.view(b,s,h*d),  pos= 0\n",
        "            ).view(b,s,h,d)\n",
        "        # elif tensor_format == \"thd\":\n",
        "        #     output = tex.fused_rope_thd_forward(t, cu_seqlens, freqs)\n",
        "        else:\n",
        "            raise ValueError(f\"Unsupported tensor_format: {tensor_format}.\")\n",
        "        ctx.save_for_backward(freqs, cu_seqlens)\n",
        "        ctx.tensor_format = tensor_format\n",
        "\n",
        "        return output\n",
        "\n",
        "    @staticmethod\n",
        "    def backward(\n",
        "        ctx, grad_output: torch.Tensor\n",
        "    ) -> Tuple[Union[torch.Tensor, None], ...]:\n",
        "        freqs, cu_seqlens = ctx.saved_tensors\n",
        "        if ctx.tensor_format == \"sbhd\":\n",
        "            s,b,h,d = grad_output.shape\n",
        "            grad_input = rbe_triton_wrapper_backward(grad_output.transpose(0, 1).view(b,s,h*d), pos= 0)[0].view(b,s,h,d).transpose(0, 1)\n",
        "        elif ctx.tensor_format == \"bshd\":\n",
        "            b,s,h,d = grad_output.shape\n",
        "            grad_input = rbe_triton_wrapper(\n",
        "                grad_output.view(b,s,h*d), pos= 0\n",
        "            )[0].view(b,s,h,d)\n",
        "        # elif ctx.tensor_format == \"thd\":\n",
        "        #     grad_input = tex.fused_rope_thd_backward(grad_output, cu_seqlens, freqs)\n",
        "        else:\n",
        "            raise ValueError(f\"Unsupported tensor_format: {ctx.tensor_format}.\")\n",
        "\n",
        "        return grad_input, None, None, None, None"
      ],
      "metadata": {
        "id": "-pEkKrf0mkYp"
      },
      "execution_count": 21,
      "outputs": []
    },
    {
      "cell_type": "code",
      "source": [
        "def apply_rotary_pos_emb(\n",
        "    t: torch.Tensor,\n",
        "    freqs: torch.Tensor,\n",
        "    tensor_format: str = \"sbhd\",\n",
        "    fused: bool = False,\n",
        "    cu_seqlens: Union[torch.Tensor, None] = None,\n",
        ") -> torch.Tensor:\n",
        "    \"\"\"\n",
        "    Apply rotary positional embedding tensor to the input tensor.\n",
        "\n",
        "    Parameters\n",
        "    ----------\n",
        "    t: torch.Tensor\n",
        "        Input tensor of shape `[s, b, h, d]`, `[s, b, h, d]` or `[t, h, d]`, on which\n",
        "        rotary positional embedding will be applied.\n",
        "    freqs: torch.Tensor\n",
        "        Rotary positional embedding tensor of shape `[s2, 1, 1, d2]` and dtype 'float',\n",
        "        with `s2 >= s` and `d2 <= d`.\n",
        "    fused: bool, default = False\n",
        "        Whether to use a fused applying RoPE implementation.\n",
        "    tensor_format: {'sbhd', 'bshd', 'thd'}, default = 'sbhd'\n",
        "        is `bshd` if `t` is of shape `[bs, seq, ...]`, or `sbhd` if `t` is\n",
        "        of shape `[seq, bs, ...]`. 'thd' is only supported when `fused` is True.\n",
        "    cu_seqlens: torch.Tensor, default = None.\n",
        "        Cumulative sum of sequence lengths in a batch for `t`, with shape [b + 1] and\n",
        "        dtype torch.int32. Only valid when `tensor_format` is 'thd'.\n",
        "    \"\"\"\n",
        "    if fused:\n",
        "        assert (\n",
        "            tensor_format != \"thd\" # or cu_seqlens is not None\n",
        "        ), \"tensor_format should not be 'thd'.\"\n",
        "        return FusedRoPEFunc.apply(t, freqs, tensor_format, cu_seqlens)\n",
        "\n",
        "    assert tensor_format in (\"sbhd\", \"bshd\"), (\n",
        "        \"Only formats `sbhd` or `bshd` are supported for input tensor `t` \"\n",
        "        f\"when fused is False, got {tensor_format}.\"\n",
        "    )\n",
        "\n",
        "    max_seq_len = freqs.shape[0]\n",
        "    cur_seq_len = t.shape[1] if tensor_format == \"bshd\" else t.shape[0]\n",
        "\n",
        "    # Only apply the rotary embeddings up to the sequence length of the running\n",
        "    # input.\n",
        "    assert cur_seq_len <= max_seq_len, (\n",
        "        f\"Rotary Embeddings only supported up to {max_seq_len} sequence length!\"\n",
        "    )\n",
        "    freqs = freqs[:cur_seq_len]\n",
        "    if tensor_format == \"bshd\":\n",
        "        freqs = freqs.transpose(0, 1)  # [seq, 1, 1, dim] -> [1, seq, 1, dim]\n",
        "    # cos/sin first then dtype conversion for better precision\n",
        "    cos_ = torch.cos(freqs).to(t.dtype)\n",
        "    sin_ = torch.sin(freqs).to(t.dtype)\n",
        "\n",
        "    rot_dim = freqs.shape[-1]\n",
        "    # ideally t_pass is empty so rotary pos embedding is applied to all tensor t\n",
        "    t, t_pass = t[..., :rot_dim], t[..., rot_dim:]\n",
        "\n",
        "    # first part is cosine component\n",
        "    # second part is sine component, need to change signs with _rotate_half method\n",
        "    t = (t * cos_) + (_rotate_half(t) * sin_)\n",
        "    return torch.cat((t, t_pass), dim=-1)"
      ],
      "metadata": {
        "id": "Rk2dWe81mAV_"
      },
      "execution_count": 22,
      "outputs": []
    },
    {
      "cell_type": "markdown",
      "source": [
        "### Test 함수"
      ],
      "metadata": {
        "id": "cJxFrK95aRlz"
      }
    },
    {
      "cell_type": "code",
      "source": [
        "def test_fused_rope(\n",
        "    dtype: torch.dtype,\n",
        "    seq_length: int,\n",
        "    hidden_size: int,\n",
        "    rotary_percent: float,\n",
        "    margin: int,\n",
        "    transpose: Union[Tuple, None],\n",
        "    tensor_format: str,\n",
        "    loss_func: Callable,\n",
        "\n",
        ") -> None:\n",
        "    device = torch.device(\"cuda:0\")\n",
        "    batch_size, head_num = 2, 64\n",
        "    t = torch.rand(\n",
        "        (seq_length - margin, batch_size, head_num, hidden_size),\n",
        "        dtype=dtype,\n",
        "        device=device,\n",
        "    )\n",
        "    if tensor_format == \"bshd\":\n",
        "        t = t.transpose(0, 1).contiguous()\n",
        "    if transpose:\n",
        "        t = t.transpose(*transpose).contiguous().transpose(*transpose)\n",
        "    t.requires_grad = True\n",
        "\n",
        "    rotary_pos_emb = RotaryPositionEmbedding(hidden_size, rotary_percent)\n",
        "    emb = rotary_pos_emb(seq_length)\n",
        "\n",
        "\n",
        "    # unfused\n",
        "    output_unfused = apply_rotary_pos_emb(\n",
        "        t,\n",
        "        emb,\n",
        "        tensor_format=tensor_format,\n",
        "        fused=False\n",
        "    )\n",
        "    loss_unfused = loss_func(output_unfused)\n",
        "    loss_unfused.backward()\n",
        "    grad_unfused = t.grad.detach().clone()\n",
        "    t.grad = None\n",
        "\n",
        "\n",
        "    # fused\n",
        "    output_fused = apply_rotary_pos_emb(\n",
        "        t,\n",
        "        emb,\n",
        "        tensor_format=tensor_format,\n",
        "        fused=True,\n",
        "    )\n",
        "    loss_fused = loss_func(output_fused)\n",
        "    loss_fused.backward()\n",
        "    grad_fused = t.grad.detach().clone()\n",
        "    t.grad = None\n",
        "\n",
        "    torch.testing.assert_close(output_fused, output_unfused, **get_tol(dtype))\n",
        "    torch.testing.assert_close(grad_fused, grad_unfused, **get_tol(dtype))\n",
        "    assert output_fused.is_contiguous()\n"
      ],
      "metadata": {
        "id": "BM_UVKKMvxZB"
      },
      "execution_count": 23,
      "outputs": []
    },
    {
      "cell_type": "code",
      "source": [
        "# Gradient is a broadcasted scalar\n",
        "def _overlapping_grad(output: torch.Tensor) -> torch.Tensor:\n",
        "    return output.sum() * 2\n",
        "\n",
        "# Gradient is a full tensor\n",
        "def _non_overlapping_grad(output: torch.Tensor) -> torch.Tensor:\n",
        "    t = torch.ones_like(output)\n",
        "    return torch.sum(output * t)\n",
        "\n",
        "def get_tol(dtype: torch.dtype) -> Dict:\n",
        "    if dtype == torch.bfloat16:\n",
        "        return dict(atol=1e-2, rtol=1e-2)\n",
        "    elif dtype == torch.float16:\n",
        "        return dict(atol=1e-3, rtol=1e-3)\n",
        "    return dict(atol=1e-5, rtol=1.3e-6)\n"
      ],
      "metadata": {
        "id": "Mgf1DYvFxl12"
      },
      "execution_count": 27,
      "outputs": []
    },
    {
      "cell_type": "markdown",
      "source": [
        "### 결과 비교\n",
        "테스트 함수에서 다른 결과가 나오는 문제 발생..."
      ],
      "metadata": {
        "id": "Qkc-dseaZ-M7"
      }
    },
    {
      "cell_type": "code",
      "source": [
        "rotary_pos_emb = RotaryPositionEmbedding(dim)\n",
        "emb = rotary_pos_emb(seq_len)\n",
        "test_input = torch.randn([batch, seq_len, heads , dim], dtype=torch.float16, device=\"cuda\")\n",
        "out_rbe_triton = apply_rotary_pos_emb(test_input, emb, tensor_format= 'sbhd', fused = True).view(batch, seq_len, heads, dim)\n",
        "out_rbe_pytorch = apply_rotary_pos_emb(test_input, emb, tensor_format= 'sbhd', fused = False).view(batch, seq_len, heads, dim)\n",
        "torch.testing.assert_close(out_rbe_triton, out_rbe_pytorch, **get_tol(torch.float16)) # 이 결과는 동일한데.."
      ],
      "metadata": {
        "id": "sVSBAdReB1L6"
      },
      "execution_count": 28,
      "outputs": []
    },
    {
      "cell_type": "code",
      "source": [
        "test_fused_rope(torch.float16, 1024, 128, 1.0, 0, None, \"sbhd\", _overlapping_grad)"
      ],
      "metadata": {
        "colab": {
          "base_uri": "https://localhost:8080/",
          "height": 356
        },
        "id": "RusxtX6gxdaZ",
        "outputId": "d9e49d69-746a-4c49-92a0-e8580f93dac3"
      },
      "execution_count": 29,
      "outputs": [
        {
          "output_type": "error",
          "ename": "AssertionError",
          "evalue": "Tensor-likes are not close!\n\nMismatched elements: 16656072 / 16777216 (99.3%)\nGreatest absolute difference: 2.79296875 at index (490, 1, 7, 91) (up to 0.001 allowed)\nGreatest relative difference: inf at index (1, 1, 25, 7) (up to 0.001 allowed)",
          "traceback": [
            "\u001b[0;31m---------------------------------------------------------------------------\u001b[0m",
            "\u001b[0;31mAssertionError\u001b[0m                            Traceback (most recent call last)",
            "\u001b[0;32m<ipython-input-29-7509c85edd30>\u001b[0m in \u001b[0;36m<cell line: 1>\u001b[0;34m()\u001b[0m\n\u001b[0;32m----> 1\u001b[0;31m \u001b[0mtest_fused_rope\u001b[0m\u001b[0;34m(\u001b[0m\u001b[0mtorch\u001b[0m\u001b[0;34m.\u001b[0m\u001b[0mfloat16\u001b[0m\u001b[0;34m,\u001b[0m \u001b[0;36m1024\u001b[0m\u001b[0;34m,\u001b[0m \u001b[0;36m128\u001b[0m\u001b[0;34m,\u001b[0m \u001b[0;36m1.0\u001b[0m\u001b[0;34m,\u001b[0m \u001b[0;36m0\u001b[0m\u001b[0;34m,\u001b[0m \u001b[0;32mNone\u001b[0m\u001b[0;34m,\u001b[0m \u001b[0;34m\"sbhd\"\u001b[0m\u001b[0;34m,\u001b[0m \u001b[0m_overlapping_grad\u001b[0m\u001b[0;34m)\u001b[0m\u001b[0;34m\u001b[0m\u001b[0;34m\u001b[0m\u001b[0m\n\u001b[0m",
            "\u001b[0;32m<ipython-input-23-bf7b08593e6d>\u001b[0m in \u001b[0;36mtest_fused_rope\u001b[0;34m(dtype, seq_length, hidden_size, rotary_percent, margin, transpose, tensor_format, loss_func)\u001b[0m\n\u001b[1;32m     52\u001b[0m     \u001b[0mt\u001b[0m\u001b[0;34m.\u001b[0m\u001b[0mgrad\u001b[0m \u001b[0;34m=\u001b[0m \u001b[0;32mNone\u001b[0m\u001b[0;34m\u001b[0m\u001b[0;34m\u001b[0m\u001b[0m\n\u001b[1;32m     53\u001b[0m \u001b[0;34m\u001b[0m\u001b[0m\n\u001b[0;32m---> 54\u001b[0;31m     \u001b[0mtorch\u001b[0m\u001b[0;34m.\u001b[0m\u001b[0mtesting\u001b[0m\u001b[0;34m.\u001b[0m\u001b[0massert_close\u001b[0m\u001b[0;34m(\u001b[0m\u001b[0moutput_fused\u001b[0m\u001b[0;34m,\u001b[0m \u001b[0moutput_unfused\u001b[0m\u001b[0;34m,\u001b[0m \u001b[0;34m**\u001b[0m\u001b[0mget_tol\u001b[0m\u001b[0;34m(\u001b[0m\u001b[0mdtype\u001b[0m\u001b[0;34m)\u001b[0m\u001b[0;34m)\u001b[0m\u001b[0;34m\u001b[0m\u001b[0;34m\u001b[0m\u001b[0m\n\u001b[0m\u001b[1;32m     55\u001b[0m     \u001b[0mtorch\u001b[0m\u001b[0;34m.\u001b[0m\u001b[0mtesting\u001b[0m\u001b[0;34m.\u001b[0m\u001b[0massert_close\u001b[0m\u001b[0;34m(\u001b[0m\u001b[0mgrad_fused\u001b[0m\u001b[0;34m,\u001b[0m \u001b[0mgrad_unfused\u001b[0m\u001b[0;34m,\u001b[0m \u001b[0;34m**\u001b[0m\u001b[0mget_tol\u001b[0m\u001b[0;34m(\u001b[0m\u001b[0mdtype\u001b[0m\u001b[0;34m)\u001b[0m\u001b[0;34m)\u001b[0m\u001b[0;34m\u001b[0m\u001b[0;34m\u001b[0m\u001b[0m\n\u001b[1;32m     56\u001b[0m     \u001b[0;32massert\u001b[0m \u001b[0moutput_fused\u001b[0m\u001b[0;34m.\u001b[0m\u001b[0mis_contiguous\u001b[0m\u001b[0;34m(\u001b[0m\u001b[0;34m)\u001b[0m\u001b[0;34m\u001b[0m\u001b[0;34m\u001b[0m\u001b[0m\n",
            "\u001b[0;32m/usr/local/lib/python3.10/dist-packages/torch/testing/_comparison.py\u001b[0m in \u001b[0;36massert_close\u001b[0;34m(actual, expected, allow_subclasses, rtol, atol, equal_nan, check_device, check_dtype, check_layout, check_stride, msg)\u001b[0m\n\u001b[1;32m   1518\u001b[0m     \u001b[0;32mif\u001b[0m \u001b[0merror_metas\u001b[0m\u001b[0;34m:\u001b[0m\u001b[0;34m\u001b[0m\u001b[0;34m\u001b[0m\u001b[0m\n\u001b[1;32m   1519\u001b[0m         \u001b[0;31m# TODO: compose all metas into one AssertionError\u001b[0m\u001b[0;34m\u001b[0m\u001b[0;34m\u001b[0m\u001b[0m\n\u001b[0;32m-> 1520\u001b[0;31m         \u001b[0;32mraise\u001b[0m \u001b[0merror_metas\u001b[0m\u001b[0;34m[\u001b[0m\u001b[0;36m0\u001b[0m\u001b[0;34m]\u001b[0m\u001b[0;34m.\u001b[0m\u001b[0mto_error\u001b[0m\u001b[0;34m(\u001b[0m\u001b[0mmsg\u001b[0m\u001b[0;34m)\u001b[0m\u001b[0;34m\u001b[0m\u001b[0;34m\u001b[0m\u001b[0m\n\u001b[0m\u001b[1;32m   1521\u001b[0m \u001b[0;34m\u001b[0m\u001b[0m\n\u001b[1;32m   1522\u001b[0m \u001b[0;34m\u001b[0m\u001b[0m\n",
            "\u001b[0;31mAssertionError\u001b[0m: Tensor-likes are not close!\n\nMismatched elements: 16656072 / 16777216 (99.3%)\nGreatest absolute difference: 2.79296875 at index (490, 1, 7, 91) (up to 0.001 allowed)\nGreatest relative difference: inf at index (1, 1, 25, 7) (up to 0.001 allowed)"
          ]
        }
      ]
    },
    {
      "cell_type": "markdown",
      "source": [
        "### 속도 비교"
      ],
      "metadata": {
        "id": "b55M-IbjZ7at"
      }
    },
    {
      "cell_type": "code",
      "source": [
        "@triton.testing.perf_report(\n",
        "    triton.testing.Benchmark(\n",
        "        x_names=['N'],  # argument names to use as an x-axis for the plot\n",
        "        x_vals=[128 * i for i in range(2, 16)],  # different possible values for `x_name`\n",
        "        line_arg='provider',  # argument name whose value corresponds to a different line in the plot\n",
        "        line_vals=[\n",
        "            'triton',\n",
        "            'torch-native',\n",
        "        ],  # possible values for `line_arg``\n",
        "        line_names=[\n",
        "            \"Triton\",\n",
        "            \"Torch (native)\",\n",
        "        ],  # label name for the lines\n",
        "        styles=[('blue', '-'), ('green', '-')],  # line styles\n",
        "        ylabel=\"GB/s\",  # label name for the y-axis\n",
        "        plot_name=\"RoPE-performance\",  # name for the plot. Used also as a file name for saving the plot.\n",
        "        args={'M': 4096},  # values for function arguments not in `x_names` and `y_name`\n",
        "    ))\n",
        "def benchmark(M, N, provider):\n",
        "    x = torch.randn(N, M, 64, 1, device='cuda', dtype=torch.float32)\n",
        "    x = x.transpose(0, 1).contiguous()\n",
        "    rotary_pos_emb = RotaryPositionEmbedding(1, 0.5)\n",
        "    emb = rotary_pos_emb(4096)\n",
        "    quantiles = [0.5, 0.2, 0.8]\n",
        "    if provider == 'torch-native':\n",
        "        ms, min_ms, max_ms = triton.testing.do_bench(lambda: apply_rotary_pos_emb(x, emb, fused = False), quantiles=quantiles)\n",
        "    if provider == 'triton':\n",
        "        ms, min_ms, max_ms = triton.testing.do_bench(lambda: apply_rotary_pos_emb(x, emb, fused = True), quantiles=quantiles)\n",
        "    gbps = lambda ms: 2 * x.nelement() * x.element_size() * 1e-9 / (ms * 1e-3)\n",
        "    return gbps(ms), gbps(max_ms), gbps(min_ms)\n",
        "\n",
        "\n",
        "benchmark.run(show_plots=True, print_data=True)"
      ],
      "metadata": {
        "colab": {
          "base_uri": "https://localhost:8080/",
          "height": 726
        },
        "id": "c_2jNAcKxmOa",
        "outputId": "1a7b8f58-f522-44e7-e0c7-1096ba58f23e"
      },
      "execution_count": 30,
      "outputs": [
        {
          "output_type": "display_data",
          "data": {
            "text/plain": [
              "<Figure size 640x480 with 1 Axes>"
            ],
            "image/png": "[encoded data removed]"
          },
          "metadata": {}
        },
        {
          "output_type": "stream",
          "name": "stdout",
          "text": [
            "RoPE-performance:\n",
            "         N     Triton  Torch (native)\n",
            "0    256.0  20.787783      201.993981\n",
            "1    384.0  26.144517      201.128691\n",
            "2    512.0  25.043844      200.033580\n",
            "3    640.0  26.086072      201.590592\n",
            "4    768.0  25.880261      201.109794\n",
            "5    896.0  25.550808      200.303785\n",
            "6   1024.0  25.440984      200.307018\n",
            "7   1152.0  25.232118      199.838726\n",
            "8   1280.0  25.289317      200.324003\n",
            "9   1408.0  23.017107      198.999748\n",
            "10  1536.0  25.429889      199.273285\n",
            "11  1664.0  25.179261      199.109545\n",
            "12  1792.0  25.245914      199.354122\n",
            "13  1920.0  25.444337      199.818675\n"
          ]
        }
      ]
    },
    {
      "cell_type": "code",
      "source": [],
      "metadata": {
        "id": "xCykdZozMFX6"
      },
      "execution_count": null,
      "outputs": []
    }
  ]
}
